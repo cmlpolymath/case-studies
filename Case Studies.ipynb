{
 "cells": [
  {
   "cell_type": "markdown",
   "id": "fc72c7e5-6c53-4488-8d30-985b7908c6eb",
   "metadata": {},
   "source": [
    "# Case study 1 – Predicting stock prices based on social media"
   ]
  },
  {
   "cell_type": "code",
   "execution_count": 1,
   "id": "21c95af7-631a-4bba-bb2a-647dd418bff6",
   "metadata": {},
   "outputs": [
    {
     "name": "stdout",
     "output_type": "stream",
     "text": [
      "-0.8\n",
      "1.0\n",
      "0.0\n"
     ]
    }
   ],
   "source": [
    "# Text-sentiment Analysis\n",
    "## -1: negative; 0: neutral; 1: positive\n",
    "from textblob import TextBlob\n",
    "# use the textblob module to make a function called \"stringToSentiment\" that returns a sentences sentiment \n",
    "def stringToSentiment(text): \n",
    "    return TextBlob(text).sentiment.polarity\n",
    "\n",
    "print(stringToSentiment('i hate you'))\n",
    "print(stringToSentiment('You are the best'))\n",
    "print(stringToSentiment('i see you'))"
   ]
  },
  {
   "cell_type": "code",
   "execution_count": 2,
   "id": "86d74bb5-3e84-44d2-8c48-86cd9c44bf4c",
   "metadata": {},
   "outputs": [
    {
     "data": {
      "text/html": [
       "<div>\n",
       "<style scoped>\n",
       "    .dataframe tbody tr th:only-of-type {\n",
       "        vertical-align: middle;\n",
       "    }\n",
       "\n",
       "    .dataframe tbody tr th {\n",
       "        vertical-align: top;\n",
       "    }\n",
       "\n",
       "    .dataframe thead th {\n",
       "        text-align: right;\n",
       "    }\n",
       "</style>\n",
       "<table border=\"1\" class=\"dataframe\">\n",
       "  <thead>\n",
       "    <tr style=\"text-align: right;\">\n",
       "      <th></th>\n",
       "      <th>Text</th>\n",
       "      <th>Date</th>\n",
       "      <th>Status</th>\n",
       "      <th>Retweet</th>\n",
       "    </tr>\n",
       "  </thead>\n",
       "  <tbody>\n",
       "    <tr>\n",
       "      <th>0</th>\n",
       "      <td>RT @j_o_h_n_danger: $TWTR now top holding for ...</td>\n",
       "      <td>2015-05-24 03:46:08</td>\n",
       "      <td>602319644234395648</td>\n",
       "      <td>6.022899e+17</td>\n",
       "    </tr>\n",
       "    <tr>\n",
       "      <th>1</th>\n",
       "      <td>RT diggingplatinum RT WWalkerWW: iOS 9 vs. And...</td>\n",
       "      <td>2015-05-24 04:17:42</td>\n",
       "      <td>602327586983796737</td>\n",
       "      <td>NaN</td>\n",
       "    </tr>\n",
       "    <tr>\n",
       "      <th>2</th>\n",
       "      <td>RT bosocial RT insidermonkey RT j_o_h_n_danger...</td>\n",
       "      <td>2015-05-24 04:13:22</td>\n",
       "      <td>602326499534966784</td>\n",
       "      <td>NaN</td>\n",
       "    </tr>\n",
       "    <tr>\n",
       "      <th>3</th>\n",
       "      <td>RT @WWalkerWW: iOS 9 vs. Android M – The New F...</td>\n",
       "      <td>2015-05-24 04:08:34</td>\n",
       "      <td>602325288740114432</td>\n",
       "      <td>6.023104e+17</td>\n",
       "    </tr>\n",
       "    <tr>\n",
       "      <th>4</th>\n",
       "      <td>RT @seeitmarket: Apple Chart Update: Big Test ...</td>\n",
       "      <td>2015-05-24 04:04:42</td>\n",
       "      <td>602324318903771136</td>\n",
       "      <td>6.023215e+17</td>\n",
       "    </tr>\n",
       "  </tbody>\n",
       "</table>\n",
       "</div>"
      ],
      "text/plain": [
       "                                                Text                 Date  \\\n",
       "0  RT @j_o_h_n_danger: $TWTR now top holding for ...  2015-05-24 03:46:08   \n",
       "1  RT diggingplatinum RT WWalkerWW: iOS 9 vs. And...  2015-05-24 04:17:42   \n",
       "2  RT bosocial RT insidermonkey RT j_o_h_n_danger...  2015-05-24 04:13:22   \n",
       "3  RT @WWalkerWW: iOS 9 vs. Android M – The New F...  2015-05-24 04:08:34   \n",
       "4  RT @seeitmarket: Apple Chart Update: Big Test ...  2015-05-24 04:04:42   \n",
       "\n",
       "               Status       Retweet  \n",
       "0  602319644234395648  6.022899e+17  \n",
       "1  602327586983796737           NaN  \n",
       "2  602326499534966784           NaN  \n",
       "3  602325288740114432  6.023104e+17  \n",
       "4  602324318903771136  6.023215e+17  "
      ]
     },
     "execution_count": 2,
     "metadata": {},
     "output_type": "execute_result"
    }
   ],
   "source": [
    "%matplotlib inline \n",
    "import pandas as pd\n",
    "import numpy as np\n",
    "tweets = pd.read_csv(r'C:\\Users\\cml_p\\Python\\Learning\\DLs\\Principles-of-Data-Science-Second-Edition-master\\Chapter13\\so_many_tweets.csv')\n",
    "tweets.head()"
   ]
  },
  {
   "cell_type": "markdown",
   "id": "c916cea5-e02e-4c49-afc5-d519cd4d871f",
   "metadata": {},
   "source": [
    "## Exploratory Data Analysis\n",
    "The above columns are explained by the following:\n",
    "* Text: Unstructured text at the nominal level\n",
    "* Date: Datetime (we will think of datetime in a continuous way)\n",
    "* Status: Status unique ID at the nominal level\n",
    "* Retweet: Status ID of tweet showing that this tweet was a retweet at the nominal level"
   ]
  },
  {
   "cell_type": "code",
   "execution_count": 3,
   "id": "e5cda074-b84c-423d-b92b-8bc2fe193d28",
   "metadata": {},
   "outputs": [
    {
     "name": "stdout",
     "output_type": "stream",
     "text": [
      "Details on \"tweets\" is as follows: \n",
      "Columns:    4 \n",
      "Rows:     52512 \n",
      "\n",
      "With the following columns and types:\n",
      "Text        object\n",
      "Date        object\n",
      "Status       int64\n",
      "Retweet    float64\n",
      "dtype: object\n"
     ]
    }
   ],
   "source": [
    "print(f'Details on \"tweets\" is as follows: \\nColumns:{tweets.shape[1]:5} \\nRows:{tweets.shape[0]:>10} \\\n",
    "\\n\\nWith the following columns and types:\\n{tweets.dtypes}')"
   ]
  },
  {
   "cell_type": "code",
   "execution_count": 4,
   "id": "76489440-ba4b-40c6-8881-1c5e7363d410",
   "metadata": {},
   "outputs": [
    {
     "data": {
      "text/html": [
       "<div>\n",
       "<style scoped>\n",
       "    .dataframe tbody tr th:only-of-type {\n",
       "        vertical-align: middle;\n",
       "    }\n",
       "\n",
       "    .dataframe tbody tr th {\n",
       "        vertical-align: top;\n",
       "    }\n",
       "\n",
       "    .dataframe thead th {\n",
       "        text-align: right;\n",
       "    }\n",
       "</style>\n",
       "<table border=\"1\" class=\"dataframe\">\n",
       "  <thead>\n",
       "    <tr style=\"text-align: right;\">\n",
       "      <th></th>\n",
       "      <th>Text</th>\n",
       "      <th>Date</th>\n",
       "      <th>Status</th>\n",
       "      <th>Retweet</th>\n",
       "      <th>sentiment</th>\n",
       "    </tr>\n",
       "  </thead>\n",
       "  <tbody>\n",
       "    <tr>\n",
       "      <th>0</th>\n",
       "      <td>RT @j_o_h_n_danger: $TWTR now top holding for ...</td>\n",
       "      <td>2015-05-24 03:46:08</td>\n",
       "      <td>602319644234395648</td>\n",
       "      <td>6.022899e+17</td>\n",
       "      <td>0.500000</td>\n",
       "    </tr>\n",
       "    <tr>\n",
       "      <th>1</th>\n",
       "      <td>RT diggingplatinum RT WWalkerWW: iOS 9 vs. And...</td>\n",
       "      <td>2015-05-24 04:17:42</td>\n",
       "      <td>602327586983796737</td>\n",
       "      <td>NaN</td>\n",
       "      <td>0.136364</td>\n",
       "    </tr>\n",
       "    <tr>\n",
       "      <th>2</th>\n",
       "      <td>RT bosocial RT insidermonkey RT j_o_h_n_danger...</td>\n",
       "      <td>2015-05-24 04:13:22</td>\n",
       "      <td>602326499534966784</td>\n",
       "      <td>NaN</td>\n",
       "      <td>0.500000</td>\n",
       "    </tr>\n",
       "    <tr>\n",
       "      <th>3</th>\n",
       "      <td>RT @WWalkerWW: iOS 9 vs. Android M – The New F...</td>\n",
       "      <td>2015-05-24 04:08:34</td>\n",
       "      <td>602325288740114432</td>\n",
       "      <td>6.023104e+17</td>\n",
       "      <td>0.136364</td>\n",
       "    </tr>\n",
       "    <tr>\n",
       "      <th>4</th>\n",
       "      <td>RT @seeitmarket: Apple Chart Update: Big Test ...</td>\n",
       "      <td>2015-05-24 04:04:42</td>\n",
       "      <td>602324318903771136</td>\n",
       "      <td>6.023215e+17</td>\n",
       "      <td>0.000000</td>\n",
       "    </tr>\n",
       "  </tbody>\n",
       "</table>\n",
       "</div>"
      ],
      "text/plain": [
       "                                                Text                 Date  \\\n",
       "0  RT @j_o_h_n_danger: $TWTR now top holding for ...  2015-05-24 03:46:08   \n",
       "1  RT diggingplatinum RT WWalkerWW: iOS 9 vs. And...  2015-05-24 04:17:42   \n",
       "2  RT bosocial RT insidermonkey RT j_o_h_n_danger...  2015-05-24 04:13:22   \n",
       "3  RT @WWalkerWW: iOS 9 vs. Android M – The New F...  2015-05-24 04:08:34   \n",
       "4  RT @seeitmarket: Apple Chart Update: Big Test ...  2015-05-24 04:04:42   \n",
       "\n",
       "               Status       Retweet  sentiment  \n",
       "0  602319644234395648  6.022899e+17   0.500000  \n",
       "1  602327586983796737           NaN   0.136364  \n",
       "2  602326499534966784           NaN   0.500000  \n",
       "3  602325288740114432  6.023104e+17   0.136364  \n",
       "4  602324318903771136  6.023215e+17   0.000000  "
      ]
     },
     "execution_count": 4,
     "metadata": {},
     "output_type": "execute_result"
    }
   ],
   "source": [
    "# create a new column in tweets called sentiment that maps stringToSentiment to the text column \n",
    "tweets['sentiment'] = tweets['Text'].apply(stringToSentiment)\n",
    "tweets.head()"
   ]
  },
  {
   "cell_type": "markdown",
   "id": "fb29fc00-69c4-45d8-8475-acc36c46e5b5",
   "metadata": {},
   "source": [
    "* We will resample this dataset in order to get a sense of the average sentiment of the stock on Twitter every day.\n",
    "* We will do this in three steps:\n",
    "  1. We will ensure that the Date column is of the Python datetime type.\n",
    "  2. We will replace our DataFrame's index with the datetime column (which allows us to use complex datetime functions).\n",
    "  3. We will resample the data so that each row, instead of representing a tweet, will represent a single day with an aggregated sentiment score for each day:"
   ]
  },
  {
   "cell_type": "code",
   "execution_count": 5,
   "id": "75ac0c39-c6d7-46e4-a0cd-31d1d60c85cd",
   "metadata": {},
   "outputs": [
    {
     "data": {
      "text/plain": [
       "52512"
      ]
     },
     "execution_count": 5,
     "metadata": {},
     "output_type": "execute_result"
    }
   ],
   "source": [
    "len(tweets)"
   ]
  },
  {
   "cell_type": "code",
   "execution_count": 6,
   "id": "6a723b48-84b7-46c6-8abb-a4642e0ae6ef",
   "metadata": {},
   "outputs": [
    {
     "data": {
      "text/plain": [
       "[0, 1, 2, 3, 4]"
      ]
     },
     "execution_count": 6,
     "metadata": {},
     "output_type": "execute_result"
    }
   ],
   "source": [
    "tweets.index = pd.RangeIndex(start=0, stop=len(tweets), step=1)  \n",
    "# As a list, we can splice it \n",
    "list(tweets.index)[:5] "
   ]
  },
  {
   "cell_type": "code",
   "execution_count": 7,
   "id": "40c5efc0-6fc1-4d54-b3ae-9a6d9c630b28",
   "metadata": {},
   "outputs": [
    {
     "data": {
      "text/plain": [
       "0   2015-05-24 03:46:08\n",
       "1   2015-05-24 04:17:42\n",
       "2   2015-05-24 04:13:22\n",
       "3   2015-05-24 04:08:34\n",
       "4   2015-05-24 04:04:42\n",
       "Name: Date, dtype: datetime64[ns]"
      ]
     },
     "execution_count": 7,
     "metadata": {},
     "output_type": "execute_result"
    }
   ],
   "source": [
    "# cast the date column as a datetime \n",
    "tweets['Date'] = pd.to_datetime(tweets.Date) \n",
    "tweets['Date'].head() "
   ]
  },
  {
   "cell_type": "code",
   "execution_count": 8,
   "id": "b90645e0-5dc9-4c58-97fd-7774e3beca84",
   "metadata": {},
   "outputs": [
    {
     "name": "stdout",
     "output_type": "stream",
     "text": [
      "DatetimeIndex(['2015-05-24 03:46:08', '2015-05-24 04:17:42',\n",
      "               '2015-05-24 04:13:22', '2015-05-24 04:08:34',\n",
      "               '2015-05-24 04:04:42'],\n",
      "              dtype='datetime64[ns]', name='Date', freq=None)\n"
     ]
    },
    {
     "data": {
      "text/html": [
       "<div>\n",
       "<style scoped>\n",
       "    .dataframe tbody tr th:only-of-type {\n",
       "        vertical-align: middle;\n",
       "    }\n",
       "\n",
       "    .dataframe tbody tr th {\n",
       "        vertical-align: top;\n",
       "    }\n",
       "\n",
       "    .dataframe thead th {\n",
       "        text-align: right;\n",
       "    }\n",
       "</style>\n",
       "<table border=\"1\" class=\"dataframe\">\n",
       "  <thead>\n",
       "    <tr style=\"text-align: right;\">\n",
       "      <th></th>\n",
       "      <th>Text</th>\n",
       "      <th>Date</th>\n",
       "      <th>Status</th>\n",
       "      <th>Retweet</th>\n",
       "      <th>sentiment</th>\n",
       "    </tr>\n",
       "    <tr>\n",
       "      <th>Date</th>\n",
       "      <th></th>\n",
       "      <th></th>\n",
       "      <th></th>\n",
       "      <th></th>\n",
       "      <th></th>\n",
       "    </tr>\n",
       "  </thead>\n",
       "  <tbody>\n",
       "    <tr>\n",
       "      <th>2015-05-24 03:46:08</th>\n",
       "      <td>RT @j_o_h_n_danger: $TWTR now top holding for ...</td>\n",
       "      <td>2015-05-24 03:46:08</td>\n",
       "      <td>602319644234395648</td>\n",
       "      <td>6.022899e+17</td>\n",
       "      <td>0.500000</td>\n",
       "    </tr>\n",
       "    <tr>\n",
       "      <th>2015-05-24 04:17:42</th>\n",
       "      <td>RT diggingplatinum RT WWalkerWW: iOS 9 vs. And...</td>\n",
       "      <td>2015-05-24 04:17:42</td>\n",
       "      <td>602327586983796737</td>\n",
       "      <td>NaN</td>\n",
       "      <td>0.136364</td>\n",
       "    </tr>\n",
       "    <tr>\n",
       "      <th>2015-05-24 04:13:22</th>\n",
       "      <td>RT bosocial RT insidermonkey RT j_o_h_n_danger...</td>\n",
       "      <td>2015-05-24 04:13:22</td>\n",
       "      <td>602326499534966784</td>\n",
       "      <td>NaN</td>\n",
       "      <td>0.500000</td>\n",
       "    </tr>\n",
       "    <tr>\n",
       "      <th>2015-05-24 04:08:34</th>\n",
       "      <td>RT @WWalkerWW: iOS 9 vs. Android M – The New F...</td>\n",
       "      <td>2015-05-24 04:08:34</td>\n",
       "      <td>602325288740114432</td>\n",
       "      <td>6.023104e+17</td>\n",
       "      <td>0.136364</td>\n",
       "    </tr>\n",
       "    <tr>\n",
       "      <th>2015-05-24 04:04:42</th>\n",
       "      <td>RT @seeitmarket: Apple Chart Update: Big Test ...</td>\n",
       "      <td>2015-05-24 04:04:42</td>\n",
       "      <td>602324318903771136</td>\n",
       "      <td>6.023215e+17</td>\n",
       "      <td>0.000000</td>\n",
       "    </tr>\n",
       "  </tbody>\n",
       "</table>\n",
       "</div>"
      ],
      "text/plain": [
       "                                                                  Text  \\\n",
       "Date                                                                     \n",
       "2015-05-24 03:46:08  RT @j_o_h_n_danger: $TWTR now top holding for ...   \n",
       "2015-05-24 04:17:42  RT diggingplatinum RT WWalkerWW: iOS 9 vs. And...   \n",
       "2015-05-24 04:13:22  RT bosocial RT insidermonkey RT j_o_h_n_danger...   \n",
       "2015-05-24 04:08:34  RT @WWalkerWW: iOS 9 vs. Android M – The New F...   \n",
       "2015-05-24 04:04:42  RT @seeitmarket: Apple Chart Update: Big Test ...   \n",
       "\n",
       "                                   Date              Status       Retweet  \\\n",
       "Date                                                                        \n",
       "2015-05-24 03:46:08 2015-05-24 03:46:08  602319644234395648  6.022899e+17   \n",
       "2015-05-24 04:17:42 2015-05-24 04:17:42  602327586983796737           NaN   \n",
       "2015-05-24 04:13:22 2015-05-24 04:13:22  602326499534966784           NaN   \n",
       "2015-05-24 04:08:34 2015-05-24 04:08:34  602325288740114432  6.023104e+17   \n",
       "2015-05-24 04:04:42 2015-05-24 04:04:42  602324318903771136  6.023215e+17   \n",
       "\n",
       "                     sentiment  \n",
       "Date                            \n",
       "2015-05-24 03:46:08   0.500000  \n",
       "2015-05-24 04:17:42   0.136364  \n",
       "2015-05-24 04:13:22   0.500000  \n",
       "2015-05-24 04:08:34   0.136364  \n",
       "2015-05-24 04:04:42   0.000000  "
      ]
     },
     "execution_count": 8,
     "metadata": {},
     "output_type": "execute_result"
    }
   ],
   "source": [
    "#### making the Date column the index\n",
    "tweets.index = tweets.Date \n",
    "print(tweets.index[:5])\n",
    "tweets.head()"
   ]
  },
  {
   "cell_type": "code",
   "execution_count": 9,
   "id": "eb9d0687-aa6a-4e41-b481-d47b435c7113",
   "metadata": {},
   "outputs": [
    {
     "data": {
      "text/html": [
       "<div>\n",
       "<style scoped>\n",
       "    .dataframe tbody tr th:only-of-type {\n",
       "        vertical-align: middle;\n",
       "    }\n",
       "\n",
       "    .dataframe tbody tr th {\n",
       "        vertical-align: top;\n",
       "    }\n",
       "\n",
       "    .dataframe thead th {\n",
       "        text-align: right;\n",
       "    }\n",
       "</style>\n",
       "<table border=\"1\" class=\"dataframe\">\n",
       "  <thead>\n",
       "    <tr style=\"text-align: right;\">\n",
       "      <th></th>\n",
       "      <th>sentiment</th>\n",
       "    </tr>\n",
       "    <tr>\n",
       "      <th>Date</th>\n",
       "      <th></th>\n",
       "    </tr>\n",
       "  </thead>\n",
       "  <tbody>\n",
       "    <tr>\n",
       "      <th>2015-05-02</th>\n",
       "      <td>0.083031</td>\n",
       "    </tr>\n",
       "    <tr>\n",
       "      <th>2015-05-03</th>\n",
       "      <td>0.107045</td>\n",
       "    </tr>\n",
       "    <tr>\n",
       "      <th>2015-05-04</th>\n",
       "      <td>0.084062</td>\n",
       "    </tr>\n",
       "    <tr>\n",
       "      <th>2015-05-05</th>\n",
       "      <td>0.063895</td>\n",
       "    </tr>\n",
       "    <tr>\n",
       "      <th>2015-05-06</th>\n",
       "      <td>0.067004</td>\n",
       "    </tr>\n",
       "  </tbody>\n",
       "</table>\n",
       "</div>"
      ],
      "text/plain": [
       "            sentiment\n",
       "Date                 \n",
       "2015-05-02   0.083031\n",
       "2015-05-03   0.107045\n",
       "2015-05-04   0.084062\n",
       "2015-05-05   0.063895\n",
       "2015-05-06   0.067004"
      ]
     },
     "execution_count": 9,
     "metadata": {},
     "output_type": "execute_result"
    }
   ],
   "source": [
    "# create a dataframe called daily_tweets which resamples tweets by D, averaging the columns \n",
    "daily_tweets = tweets[['sentiment']].resample('D').mean()\n",
    "# I only want the sentiment column in my new Dataframe. \n",
    "daily_tweets.head()"
   ]
  },
  {
   "cell_type": "code",
   "execution_count": 10,
   "id": "f22bbba5-fdae-4a91-ab4c-b03a4f9046d6",
   "metadata": {},
   "outputs": [
    {
     "data": {
      "text/plain": [
       "(23, 1)"
      ]
     },
     "execution_count": 10,
     "metadata": {},
     "output_type": "execute_result"
    }
   ],
   "source": [
    "daily_tweets.shape\n",
    "#we have 23 days worth of data"
   ]
  },
  {
   "cell_type": "code",
   "execution_count": 11,
   "id": "8636925b-5301-4462-8cfa-b93923a72b68",
   "metadata": {},
   "outputs": [
    {
     "data": {
      "text/plain": [
       "<Axes: xlabel='Date'>"
      ]
     },
     "execution_count": 11,
     "metadata": {},
     "output_type": "execute_result"
    },
    {
     "data": {
      "image/png": "[encoded data removed]",
      "text/plain": [
       "<Figure size 640x480 with 1 Axes>"
      ]
     },
     "metadata": {},
     "output_type": "display_data"
    }
   ],
   "source": [
    "# tracking sentiment over the days\n",
    "# plot the sentiment as a line graph \n",
    "daily_tweets.sentiment.plot(kind='line') "
   ]
  },
  {
   "cell_type": "code",
   "execution_count": 110,
   "id": "b0288fad-66ab-45a3-9e2e-80aa7d295004",
   "metadata": {
    "scrolled": true
   },
   "outputs": [],
   "source": [
    "#utilizing pandas_datareader to grab stock data\n",
    "from pandas_datareader import data as pdr\n",
    "import datetime \n",
    "import yfinance as yf\n",
    "yf.pdr_override() # <== that's all it takes :-)\n",
    "\n",
    "start_date = datetime.date(2015, 5, 2).strftime('%Y-%m-%d')\n",
    "end_date =datetime.date(2015, 5, 25).strftime('%Y-%m-%d')"
   ]
  },
  {
   "cell_type": "code",
   "execution_count": 111,
   "id": "9891becd-67f3-4ddf-803a-cdba1210d2cc",
   "metadata": {},
   "outputs": [
    {
     "name": "stderr",
     "output_type": "stream",
     "text": [
      "[*********************100%%**********************]  1 of 1 completed\n"
     ]
    }
   ],
   "source": [
    "historical_prices = pdr.get_data_yahoo('AAPL', start=start_date,end=end_date)"
   ]
  },
  {
   "cell_type": "code",
   "execution_count": 112,
   "id": "b1aec55e-1032-4c8f-864e-146c707692ce",
   "metadata": {},
   "outputs": [
    {
     "data": {
      "text/html": [
       "<div>\n",
       "<style scoped>\n",
       "    .dataframe tbody tr th:only-of-type {\n",
       "        vertical-align: middle;\n",
       "    }\n",
       "\n",
       "    .dataframe tbody tr th {\n",
       "        vertical-align: top;\n",
       "    }\n",
       "\n",
       "    .dataframe thead th {\n",
       "        text-align: right;\n",
       "    }\n",
       "</style>\n",
       "<table border=\"1\" class=\"dataframe\">\n",
       "  <thead>\n",
       "    <tr style=\"text-align: right;\">\n",
       "      <th></th>\n",
       "      <th>Open</th>\n",
       "      <th>High</th>\n",
       "      <th>Low</th>\n",
       "      <th>Close</th>\n",
       "      <th>Adj Close</th>\n",
       "      <th>Volume</th>\n",
       "    </tr>\n",
       "    <tr>\n",
       "      <th>Date</th>\n",
       "      <th></th>\n",
       "      <th></th>\n",
       "      <th></th>\n",
       "      <th></th>\n",
       "      <th></th>\n",
       "      <th></th>\n",
       "    </tr>\n",
       "  </thead>\n",
       "  <tbody>\n",
       "    <tr>\n",
       "      <th>2015-05-04</th>\n",
       "      <td>32.375000</td>\n",
       "      <td>32.642502</td>\n",
       "      <td>32.064999</td>\n",
       "      <td>32.174999</td>\n",
       "      <td>28.877987</td>\n",
       "      <td>203953200</td>\n",
       "    </tr>\n",
       "    <tr>\n",
       "      <th>2015-05-05</th>\n",
       "      <td>32.037498</td>\n",
       "      <td>32.112499</td>\n",
       "      <td>31.445000</td>\n",
       "      <td>31.450001</td>\n",
       "      <td>28.227276</td>\n",
       "      <td>197085600</td>\n",
       "    </tr>\n",
       "    <tr>\n",
       "      <th>2015-05-06</th>\n",
       "      <td>31.639999</td>\n",
       "      <td>31.687500</td>\n",
       "      <td>30.840000</td>\n",
       "      <td>31.252501</td>\n",
       "      <td>28.050020</td>\n",
       "      <td>288564000</td>\n",
       "    </tr>\n",
       "    <tr>\n",
       "      <th>2015-05-07</th>\n",
       "      <td>31.192499</td>\n",
       "      <td>31.520000</td>\n",
       "      <td>31.004999</td>\n",
       "      <td>31.315001</td>\n",
       "      <td>28.223515</td>\n",
       "      <td>175763600</td>\n",
       "    </tr>\n",
       "    <tr>\n",
       "      <th>2015-05-08</th>\n",
       "      <td>31.670000</td>\n",
       "      <td>31.905001</td>\n",
       "      <td>31.527500</td>\n",
       "      <td>31.905001</td>\n",
       "      <td>28.755270</td>\n",
       "      <td>222201600</td>\n",
       "    </tr>\n",
       "  </tbody>\n",
       "</table>\n",
       "</div>"
      ],
      "text/plain": [
       "                 Open       High        Low      Close  Adj Close     Volume\n",
       "Date                                                                        \n",
       "2015-05-04  32.375000  32.642502  32.064999  32.174999  28.877987  203953200\n",
       "2015-05-05  32.037498  32.112499  31.445000  31.450001  28.227276  197085600\n",
       "2015-05-06  31.639999  31.687500  30.840000  31.252501  28.050020  288564000\n",
       "2015-05-07  31.192499  31.520000  31.004999  31.315001  28.223515  175763600\n",
       "2015-05-08  31.670000  31.905001  31.527500  31.905001  28.755270  222201600"
      ]
     },
     "execution_count": 112,
     "metadata": {},
     "output_type": "execute_result"
    }
   ],
   "source": [
    "prices = pd.DataFrame(historical_prices) \n",
    "prices.head() "
   ]
  },
  {
   "cell_type": "code",
   "execution_count": 27,
   "id": "7e60e2d2-b70b-4ed0-ac8c-a7d1b7fb7b4f",
   "metadata": {},
   "outputs": [
    {
     "name": "stdout",
     "output_type": "stream",
     "text": [
      "<class 'pandas.core.frame.DataFrame'>\n",
      "DatetimeIndex: 15 entries, 2015-05-04 to 2015-05-22\n",
      "Data columns (total 6 columns):\n",
      " #   Column     Non-Null Count  Dtype  \n",
      "---  ------     --------------  -----  \n",
      " 0   Open       15 non-null     float64\n",
      " 1   High       15 non-null     float64\n",
      " 2   Low        15 non-null     float64\n",
      " 3   Close      15 non-null     float64\n",
      " 4   Adj Close  15 non-null     float64\n",
      " 5   Volume     15 non-null     int64  \n",
      "dtypes: float64(5), int64(1)\n",
      "memory usage: 840.0 bytes\n"
     ]
    }
   ],
   "source": [
    "prices.info() #check that these are all numbers"
   ]
  },
  {
   "cell_type": "code",
   "execution_count": 29,
   "id": "bfd6532d-4740-46aa-b6d1-5366982c14e0",
   "metadata": {},
   "outputs": [
    {
     "data": {
      "text/html": [
       "<div>\n",
       "<style scoped>\n",
       "    .dataframe tbody tr th:only-of-type {\n",
       "        vertical-align: middle;\n",
       "    }\n",
       "\n",
       "    .dataframe tbody tr th {\n",
       "        vertical-align: top;\n",
       "    }\n",
       "\n",
       "    .dataframe thead th {\n",
       "        text-align: right;\n",
       "    }\n",
       "</style>\n",
       "<table border=\"1\" class=\"dataframe\">\n",
       "  <thead>\n",
       "    <tr style=\"text-align: right;\">\n",
       "      <th></th>\n",
       "      <th>Volume</th>\n",
       "      <th>Close</th>\n",
       "    </tr>\n",
       "  </thead>\n",
       "  <tbody>\n",
       "    <tr>\n",
       "      <th>count</th>\n",
       "      <td>1.500000e+01</td>\n",
       "      <td>15.000000</td>\n",
       "    </tr>\n",
       "    <tr>\n",
       "      <th>mean</th>\n",
       "      <td>1.859976e+08</td>\n",
       "      <td>32.042667</td>\n",
       "    </tr>\n",
       "    <tr>\n",
       "      <th>std</th>\n",
       "      <td>3.666822e+07</td>\n",
       "      <td>0.596598</td>\n",
       "    </tr>\n",
       "    <tr>\n",
       "      <th>min</th>\n",
       "      <td>1.387768e+08</td>\n",
       "      <td>31.252501</td>\n",
       "    </tr>\n",
       "    <tr>\n",
       "      <th>25%</th>\n",
       "      <td>1.635324e+08</td>\n",
       "      <td>31.485001</td>\n",
       "    </tr>\n",
       "    <tr>\n",
       "      <th>50%</th>\n",
       "      <td>1.808140e+08</td>\n",
       "      <td>32.174999</td>\n",
       "    </tr>\n",
       "    <tr>\n",
       "      <th>75%</th>\n",
       "      <td>2.003086e+08</td>\n",
       "      <td>32.516251</td>\n",
       "    </tr>\n",
       "    <tr>\n",
       "      <th>max</th>\n",
       "      <td>2.885640e+08</td>\n",
       "      <td>33.134998</td>\n",
       "    </tr>\n",
       "  </tbody>\n",
       "</table>\n",
       "</div>"
      ],
      "text/plain": [
       "             Volume      Close\n",
       "count  1.500000e+01  15.000000\n",
       "mean   1.859976e+08  32.042667\n",
       "std    3.666822e+07   0.596598\n",
       "min    1.387768e+08  31.252501\n",
       "25%    1.635324e+08  31.485001\n",
       "50%    1.808140e+08  32.174999\n",
       "75%    2.003086e+08  32.516251\n",
       "max    2.885640e+08  33.134998"
      ]
     },
     "execution_count": 29,
     "metadata": {},
     "output_type": "execute_result"
    },
    {
     "data": {
      "image/png": "[encoded data removed]",
      "text/plain": [
       "<Figure size 640x480 with 1 Axes>"
      ]
     },
     "metadata": {},
     "output_type": "display_data"
    }
   ],
   "source": [
    "# plot both volume and close as line graphs in the same graph, what do you notice is the problem? \n",
    "prices[[\"Volume\", 'Close']].plot()\n",
    "prices[[\"Volume\", 'Close']].describe()"
   ]
  },
  {
   "cell_type": "code",
   "execution_count": 30,
   "id": "8d7ee034-36e7-4bd9-826f-fca5caa51bbc",
   "metadata": {},
   "outputs": [
    {
     "data": {
      "text/plain": [
       "<Axes: >"
      ]
     },
     "execution_count": 30,
     "metadata": {},
     "output_type": "execute_result"
    },
    {
     "data": {
      "image/png": "[encoded data removed]",
      "text/plain": [
       "<Figure size 640x480 with 1 Axes>"
      ]
     },
     "metadata": {},
     "output_type": "display_data"
    }
   ],
   "source": [
    "#they are on different scales!. Let's resolve that\n",
    "from sklearn.preprocessing import StandardScaler\n",
    "# scale the columns by z scores using StandardScaler \n",
    "# Then plot the scaled data \n",
    "s = StandardScaler() \n",
    "only_prices_and_volumes = prices[[\"Volume\", 'Close']] \n",
    "price_volume_scaled = s.fit_transform(only_prices_and_volumes) \n",
    "pd.DataFrame(price_volume_scaled, columns=[\"Volume\", 'Close']).plot() "
   ]
  },
  {
   "cell_type": "code",
   "execution_count": 31,
   "id": "74f3077e-7c9e-47cb-b27c-20103352b25e",
   "metadata": {},
   "outputs": [
    {
     "data": {
      "text/html": [
       "<div>\n",
       "<style scoped>\n",
       "    .dataframe tbody tr th:only-of-type {\n",
       "        vertical-align: middle;\n",
       "    }\n",
       "\n",
       "    .dataframe tbody tr th {\n",
       "        vertical-align: top;\n",
       "    }\n",
       "\n",
       "    .dataframe thead th {\n",
       "        text-align: right;\n",
       "    }\n",
       "</style>\n",
       "<table border=\"1\" class=\"dataframe\">\n",
       "  <thead>\n",
       "    <tr style=\"text-align: right;\">\n",
       "      <th></th>\n",
       "      <th>Close</th>\n",
       "      <th>sentiment</th>\n",
       "    </tr>\n",
       "    <tr>\n",
       "      <th>Date</th>\n",
       "      <th></th>\n",
       "      <th></th>\n",
       "    </tr>\n",
       "  </thead>\n",
       "  <tbody>\n",
       "    <tr>\n",
       "      <th>2015-05-02</th>\n",
       "      <td>NaN</td>\n",
       "      <td>0.083031</td>\n",
       "    </tr>\n",
       "    <tr>\n",
       "      <th>2015-05-03</th>\n",
       "      <td>NaN</td>\n",
       "      <td>0.107045</td>\n",
       "    </tr>\n",
       "    <tr>\n",
       "      <th>2015-05-04</th>\n",
       "      <td>32.174999</td>\n",
       "      <td>0.084062</td>\n",
       "    </tr>\n",
       "    <tr>\n",
       "      <th>2015-05-05</th>\n",
       "      <td>31.450001</td>\n",
       "      <td>0.063895</td>\n",
       "    </tr>\n",
       "    <tr>\n",
       "      <th>2015-05-06</th>\n",
       "      <td>31.252501</td>\n",
       "      <td>0.067004</td>\n",
       "    </tr>\n",
       "  </tbody>\n",
       "</table>\n",
       "</div>"
      ],
      "text/plain": [
       "                Close  sentiment\n",
       "Date                            \n",
       "2015-05-02        NaN   0.083031\n",
       "2015-05-03        NaN   0.107045\n",
       "2015-05-04  32.174999   0.084062\n",
       "2015-05-05  31.450001   0.063895\n",
       "2015-05-06  31.252501   0.067004"
      ]
     },
     "execution_count": 31,
     "metadata": {},
     "output_type": "execute_result"
    }
   ],
   "source": [
    "# concatinate prices.Close, and daily_tweets.sentiment \n",
    " \n",
    "merged = pd.concat([prices.Close, daily_tweets.sentiment], axis=1) \n",
    "merged.head() \n",
    "## we see some NaN values. Checking the calendar we see that these are weekends\n",
    "### given that we want to predoct the next trading day, let's drop NaN values"
   ]
  },
  {
   "cell_type": "code",
   "execution_count": 33,
   "id": "34da9c9d-08ea-4654-a63d-a2b418820ad5",
   "metadata": {},
   "outputs": [
    {
     "data": {
      "text/plain": [
       "<Axes: xlabel='Date'>"
      ]
     },
     "execution_count": 33,
     "metadata": {},
     "output_type": "execute_result"
    },
    {
     "data": {
      "image/png": "[encoded data removed]",
      "text/plain": [
       "<Figure size 640x480 with 1 Axes>"
      ]
     },
     "metadata": {},
     "output_type": "display_data"
    }
   ],
   "source": [
    "# Delete any rows with missing values in any column \n",
    "merged.dropna(inplace=True)\n",
    "merged.plot()"
   ]
  },
  {
   "cell_type": "code",
   "execution_count": 34,
   "id": "3a1a0c7f-2a2e-438a-8d18-2a033ba339c5",
   "metadata": {},
   "outputs": [
    {
     "data": {
      "text/plain": [
       "<Axes: >"
      ]
     },
     "execution_count": 34,
     "metadata": {},
     "output_type": "execute_result"
    },
    {
     "data": {
      "image/png": "[encoded data removed]",
      "text/plain": [
       "<Figure size 640x480 with 1 Axes>"
      ]
     },
     "metadata": {},
     "output_type": "display_data"
    }
   ],
   "source": [
    "# We need to scale again\n",
    "# scale the columns by z scores using StandardScaler \n",
    "from sklearn.preprocessing import StandardScaler \n",
    "s = StandardScaler() \n",
    "merged_scaled = s.fit_transform(merged) \n",
    " \n",
    "pd.DataFrame(merged_scaled, columns=merged.columns).plot() \n",
    "# notice how sentiment seems to follow the closing price "
   ]
  },
  {
   "cell_type": "markdown",
   "id": "4cba5dae-7c00-47c7-9863-2d7701a8c7d7",
   "metadata": {},
   "source": [
    "* We will attempt to apply a supervised learning model to this\n",
    "    * Recall that our response is the value that we wish to predict, and our features are values that we will use to predict the response.\n",
    "* So, for each row, our response should be today's closing price, while our feature should be yesterday's sentiment of the stock. To do this, I will use a built-in function in Pandas called shift to shift our sentiment column one item backward:"
   ]
  },
  {
   "cell_type": "code",
   "execution_count": 35,
   "id": "7593eaff-cb34-483f-9a7d-91ec02e73e3b",
   "metadata": {},
   "outputs": [
    {
     "data": {
      "text/html": [
       "<div>\n",
       "<style scoped>\n",
       "    .dataframe tbody tr th:only-of-type {\n",
       "        vertical-align: middle;\n",
       "    }\n",
       "\n",
       "    .dataframe tbody tr th {\n",
       "        vertical-align: top;\n",
       "    }\n",
       "\n",
       "    .dataframe thead th {\n",
       "        text-align: right;\n",
       "    }\n",
       "</style>\n",
       "<table border=\"1\" class=\"dataframe\">\n",
       "  <thead>\n",
       "    <tr style=\"text-align: right;\">\n",
       "      <th></th>\n",
       "      <th>Close</th>\n",
       "      <th>sentiment</th>\n",
       "      <th>yesterday_sentiment</th>\n",
       "    </tr>\n",
       "    <tr>\n",
       "      <th>Date</th>\n",
       "      <th></th>\n",
       "      <th></th>\n",
       "      <th></th>\n",
       "    </tr>\n",
       "  </thead>\n",
       "  <tbody>\n",
       "    <tr>\n",
       "      <th>2015-05-04</th>\n",
       "      <td>32.174999</td>\n",
       "      <td>0.084062</td>\n",
       "      <td>NaN</td>\n",
       "    </tr>\n",
       "    <tr>\n",
       "      <th>2015-05-05</th>\n",
       "      <td>31.450001</td>\n",
       "      <td>0.063895</td>\n",
       "      <td>0.084062</td>\n",
       "    </tr>\n",
       "    <tr>\n",
       "      <th>2015-05-06</th>\n",
       "      <td>31.252501</td>\n",
       "      <td>0.067004</td>\n",
       "      <td>0.063895</td>\n",
       "    </tr>\n",
       "    <tr>\n",
       "      <th>2015-05-07</th>\n",
       "      <td>31.315001</td>\n",
       "      <td>0.078972</td>\n",
       "      <td>0.067004</td>\n",
       "    </tr>\n",
       "    <tr>\n",
       "      <th>2015-05-08</th>\n",
       "      <td>31.905001</td>\n",
       "      <td>0.102869</td>\n",
       "      <td>0.078972</td>\n",
       "    </tr>\n",
       "  </tbody>\n",
       "</table>\n",
       "</div>"
      ],
      "text/plain": [
       "                Close  sentiment  yesterday_sentiment\n",
       "Date                                                 \n",
       "2015-05-04  32.174999   0.084062                  NaN\n",
       "2015-05-05  31.450001   0.063895             0.084062\n",
       "2015-05-06  31.252501   0.067004             0.063895\n",
       "2015-05-07  31.315001   0.078972             0.067004\n",
       "2015-05-08  31.905001   0.102869             0.078972"
      ]
     },
     "execution_count": 35,
     "metadata": {},
     "output_type": "execute_result"
    }
   ],
   "source": [
    "# Shift the sentiment column backwards one item \n",
    " \n",
    "merged['yesterday_sentiment'] = merged['sentiment'].shift(1) \n",
    "merged.head()"
   ]
  },
  {
   "cell_type": "markdown",
   "id": "8fbfce3e-c1f0-46a4-b632-4575c2ae5056",
   "metadata": {},
   "source": [
    "* If you merely wish to associate sentiment with a movement in price, then I recommend using the classification route. If you wish to associate sentiment with the amount of movement, I recommend a regression"
   ]
  },
  {
   "cell_type": "markdown",
   "id": "e9975988-1951-407d-a619-f542b5d855f6",
   "metadata": {},
   "source": [
    "### Regression route\n"
   ]
  },
  {
   "cell_type": "code",
   "execution_count": 36,
   "id": "b279d1f3-7b2a-474a-bfa8-5650bdf70eeb",
   "metadata": {},
   "outputs": [
    {
     "name": "stderr",
     "output_type": "stream",
     "text": [
      "C:\\Users\\cml_p\\AppData\\Local\\Temp\\ipykernel_19224\\1363309077.py:2: SettingWithCopyWarning: \n",
      "A value is trying to be set on a copy of a slice from a DataFrame\n",
      "\n",
      "See the caveats in the documentation: https://pandas.pydata.org/pandas-docs/stable/user_guide/indexing.html#returning-a-view-versus-a-copy\n",
      "  regression_df.dropna(inplace=True)\n"
     ]
    },
    {
     "data": {
      "text/html": [
       "<div>\n",
       "<style scoped>\n",
       "    .dataframe tbody tr th:only-of-type {\n",
       "        vertical-align: middle;\n",
       "    }\n",
       "\n",
       "    .dataframe tbody tr th {\n",
       "        vertical-align: top;\n",
       "    }\n",
       "\n",
       "    .dataframe thead th {\n",
       "        text-align: right;\n",
       "    }\n",
       "</style>\n",
       "<table border=\"1\" class=\"dataframe\">\n",
       "  <thead>\n",
       "    <tr style=\"text-align: right;\">\n",
       "      <th></th>\n",
       "      <th>yesterday_sentiment</th>\n",
       "      <th>Close</th>\n",
       "    </tr>\n",
       "    <tr>\n",
       "      <th>Date</th>\n",
       "      <th></th>\n",
       "      <th></th>\n",
       "    </tr>\n",
       "  </thead>\n",
       "  <tbody>\n",
       "    <tr>\n",
       "      <th>2015-05-05</th>\n",
       "      <td>0.084062</td>\n",
       "      <td>31.450001</td>\n",
       "    </tr>\n",
       "    <tr>\n",
       "      <th>2015-05-06</th>\n",
       "      <td>0.063895</td>\n",
       "      <td>31.252501</td>\n",
       "    </tr>\n",
       "    <tr>\n",
       "      <th>2015-05-07</th>\n",
       "      <td>0.067004</td>\n",
       "      <td>31.315001</td>\n",
       "    </tr>\n",
       "    <tr>\n",
       "      <th>2015-05-08</th>\n",
       "      <td>0.078972</td>\n",
       "      <td>31.905001</td>\n",
       "    </tr>\n",
       "    <tr>\n",
       "      <th>2015-05-11</th>\n",
       "      <td>0.102869</td>\n",
       "      <td>31.580000</td>\n",
       "    </tr>\n",
       "  </tbody>\n",
       "</table>\n",
       "</div>"
      ],
      "text/plain": [
       "            yesterday_sentiment      Close\n",
       "Date                                      \n",
       "2015-05-05             0.084062  31.450001\n",
       "2015-05-06             0.063895  31.252501\n",
       "2015-05-07             0.067004  31.315001\n",
       "2015-05-08             0.078972  31.905001\n",
       "2015-05-11             0.102869  31.580000"
      ]
     },
     "execution_count": 36,
     "metadata": {},
     "output_type": "execute_result"
    }
   ],
   "source": [
    "#drop the single N/A column that we don't have a predictor for\n",
    "regression_df = merged[['yesterday_sentiment', 'Close']] \n",
    "regression_df.dropna(inplace=True) \n",
    "regression_df.head() "
   ]
  },
  {
   "cell_type": "code",
   "execution_count": 39,
   "id": "6b1ca315-3397-4537-94d5-d410397b0ebb",
   "metadata": {},
   "outputs": [
    {
     "name": "stdout",
     "output_type": "stream",
     "text": [
      "0.8765180345824453\n",
      "0.8854759953619113\n"
     ]
    }
   ],
   "source": [
    "#Let's use both a random forest and a linear regression and see which performs better, using root-mean-square error (RMSE) as our metric:\n",
    "from sklearn.linear_model import LinearRegression \n",
    "from sklearn.ensemble import RandomForestRegressor \n",
    "from sklearn.model_selection import cross_val_score\n",
    "\n",
    "# Our RMSE as a result of cross validation linear regression \n",
    "linreg = LinearRegression() \n",
    "rmse_cv = np.sqrt(abs(cross_val_score(linreg, regression_df[['yesterday_sentiment']], regression_df['Close'], cv=3, scoring='neg_mean_squared_error').mean())) \n",
    "print(rmse_cv) \n",
    "\n",
    "# Our RMSE as a result of cross validation random forest \n",
    "rf = RandomForestRegressor() \n",
    "rmse_cv = np.sqrt(abs(cross_val_score(rf, regression_df[['yesterday_sentiment']], regression_df['Close'], cv=3, scoring='neg_mean_squared_error').mean())) \n",
    "print(rmse_cv) "
   ]
  },
  {
   "cell_type": "markdown",
   "id": "1bc6e473-587d-4de2-a2a6-c60df129dd5c",
   "metadata": {},
   "source": [
    "* Look at our RMSE; it's about 0.88 for both models, meaning that on average, our model is off by about 88 cents  , which is actually a big deal considering our stock price likely doesn't move that much:"
   ]
  },
  {
   "cell_type": "code",
   "execution_count": 40,
   "id": "69ab9127-48c2-405b-8ba2-4678104e402a",
   "metadata": {},
   "outputs": [
    {
     "data": {
      "text/plain": [
       "count    14.000000\n",
       "mean     32.033215\n",
       "std       0.617953\n",
       "min      31.252501\n",
       "25%      31.476251\n",
       "50%      32.048751\n",
       "75%      32.516876\n",
       "max      33.134998\n",
       "Name: Close, dtype: float64"
      ]
     },
     "execution_count": 40,
     "metadata": {},
     "output_type": "execute_result"
    }
   ],
   "source": [
    "regression_df['Close'].describe()"
   ]
  },
  {
   "cell_type": "markdown",
   "id": "d46d648a-3944-4aa2-b8ef-b3848b63f251",
   "metadata": {},
   "source": [
    "* Test the validity of our model against the null model"
   ]
  },
  {
   "cell_type": "code",
   "execution_count": 41,
   "id": "24880e79-fbf2-4d11-a8ac-83955e362e70",
   "metadata": {},
   "outputs": [
    {
     "data": {
      "text/plain": [
       "0.595473959497161"
      ]
     },
     "execution_count": 41,
     "metadata": {},
     "output_type": "execute_result"
    }
   ],
   "source": [
    "# null model for regression \n",
    "mean_close = regression_df['Close'].mean() \n",
    "preds = [mean_close]*regression_df.shape[0] \n",
    "preds \n",
    "from sklearn.metrics import mean_squared_error \n",
    "null_rmse = np.sqrt(mean_squared_error(preds, regression_df['Close'])) \n",
    "null_rmse "
   ]
  },
  {
   "cell_type": "markdown",
   "id": "29843f20-2d7f-479f-9478-92e8ecc95c77",
   "metadata": {},
   "source": [
    "* We didn't beat the null model so regression might not be the best choice "
   ]
  },
  {
   "cell_type": "markdown",
   "id": "0673efdf-f87c-4634-a69d-0923730956bd",
   "metadata": {},
   "source": [
    "### Using Classification\n",
    "* For classification, we have a bit more work to do because we don't have a categorical response yet. To make one, we need to transform the closing column into some categorical option. I will choose to make the following response. I will make a new column called *change_close_big_deal*, defined as follows:\n",
    "    * So, our response will be 1 if our response changed significantly, and 0 if the change in stock was negligible:"
   ]
  },
  {
   "cell_type": "code",
   "execution_count": 42,
   "id": "4566a644-9dd8-4f83-92ab-642d8b361a6b",
   "metadata": {},
   "outputs": [
    {
     "data": {
      "text/html": [
       "<div>\n",
       "<style scoped>\n",
       "    .dataframe tbody tr th:only-of-type {\n",
       "        vertical-align: middle;\n",
       "    }\n",
       "\n",
       "    .dataframe tbody tr th {\n",
       "        vertical-align: top;\n",
       "    }\n",
       "\n",
       "    .dataframe thead th {\n",
       "        text-align: right;\n",
       "    }\n",
       "</style>\n",
       "<table border=\"1\" class=\"dataframe\">\n",
       "  <thead>\n",
       "    <tr style=\"text-align: right;\">\n",
       "      <th></th>\n",
       "      <th>yesterday_sentiment</th>\n",
       "      <th>Close</th>\n",
       "      <th>yesterday_close</th>\n",
       "      <th>percent_change_in_price</th>\n",
       "    </tr>\n",
       "    <tr>\n",
       "      <th>Date</th>\n",
       "      <th></th>\n",
       "      <th></th>\n",
       "      <th></th>\n",
       "      <th></th>\n",
       "    </tr>\n",
       "  </thead>\n",
       "  <tbody>\n",
       "    <tr>\n",
       "      <th>2015-05-05</th>\n",
       "      <td>0.084062</td>\n",
       "      <td>31.450001</td>\n",
       "      <td>32.174999</td>\n",
       "      <td>-0.022533</td>\n",
       "    </tr>\n",
       "    <tr>\n",
       "      <th>2015-05-06</th>\n",
       "      <td>0.063895</td>\n",
       "      <td>31.252501</td>\n",
       "      <td>31.450001</td>\n",
       "      <td>-0.006280</td>\n",
       "    </tr>\n",
       "    <tr>\n",
       "      <th>2015-05-07</th>\n",
       "      <td>0.067004</td>\n",
       "      <td>31.315001</td>\n",
       "      <td>31.252501</td>\n",
       "      <td>0.002000</td>\n",
       "    </tr>\n",
       "    <tr>\n",
       "      <th>2015-05-08</th>\n",
       "      <td>0.078972</td>\n",
       "      <td>31.905001</td>\n",
       "      <td>31.315001</td>\n",
       "      <td>0.018841</td>\n",
       "    </tr>\n",
       "    <tr>\n",
       "      <th>2015-05-11</th>\n",
       "      <td>0.102869</td>\n",
       "      <td>31.580000</td>\n",
       "      <td>31.905001</td>\n",
       "      <td>-0.010187</td>\n",
       "    </tr>\n",
       "  </tbody>\n",
       "</table>\n",
       "</div>"
      ],
      "text/plain": [
       "            yesterday_sentiment      Close  yesterday_close  \\\n",
       "Date                                                          \n",
       "2015-05-05             0.084062  31.450001        32.174999   \n",
       "2015-05-06             0.063895  31.252501        31.450001   \n",
       "2015-05-07             0.067004  31.315001        31.252501   \n",
       "2015-05-08             0.078972  31.905001        31.315001   \n",
       "2015-05-11             0.102869  31.580000        31.905001   \n",
       "\n",
       "            percent_change_in_price  \n",
       "Date                                 \n",
       "2015-05-05                -0.022533  \n",
       "2015-05-06                -0.006280  \n",
       "2015-05-07                 0.002000  \n",
       "2015-05-08                 0.018841  \n",
       "2015-05-11                -0.010187  "
      ]
     },
     "execution_count": 42,
     "metadata": {},
     "output_type": "execute_result"
    }
   ],
   "source": [
    "# Imports for our classification \n",
    " \n",
    "from sklearn.linear_model import LogisticRegression \n",
    "from sklearn.ensemble import RandomForestClassifier \n",
    "from sklearn.model_selection import cross_val_score \n",
    "# Make a new dataframe for our classification and drop the null values \n",
    " \n",
    "classification_df = merged[['yesterday_sentiment', 'Close']] \n",
    " \n",
    "# variable to represent yesterday's closing price \n",
    "classification_df['yesterday_close'] = classification_df['Close'].shift(1) \n",
    " \n",
    "# column that represents the precent change in price since yesterday \n",
    "classification_df['percent_change_in_price'] = (classification_df['Close']-classification_df['yesterday_close']) / classification_df['yesterday_close'] \n",
    " \n",
    "# drop any null values \n",
    "classification_df.dropna(inplace=True) \n",
    "classification_df.head() "
   ]
  },
  {
   "cell_type": "code",
   "execution_count": 43,
   "id": "74ec11e4-a9b7-4e89-8e6d-2b916d831f16",
   "metadata": {},
   "outputs": [
    {
     "data": {
      "text/html": [
       "<div>\n",
       "<style scoped>\n",
       "    .dataframe tbody tr th:only-of-type {\n",
       "        vertical-align: middle;\n",
       "    }\n",
       "\n",
       "    .dataframe tbody tr th {\n",
       "        vertical-align: top;\n",
       "    }\n",
       "\n",
       "    .dataframe thead th {\n",
       "        text-align: right;\n",
       "    }\n",
       "</style>\n",
       "<table border=\"1\" class=\"dataframe\">\n",
       "  <thead>\n",
       "    <tr style=\"text-align: right;\">\n",
       "      <th></th>\n",
       "      <th>yesterday_sentiment</th>\n",
       "      <th>Close</th>\n",
       "      <th>yesterday_close</th>\n",
       "      <th>percent_change_in_price</th>\n",
       "      <th>change_close_big_deal</th>\n",
       "    </tr>\n",
       "    <tr>\n",
       "      <th>Date</th>\n",
       "      <th></th>\n",
       "      <th></th>\n",
       "      <th></th>\n",
       "      <th></th>\n",
       "      <th></th>\n",
       "    </tr>\n",
       "  </thead>\n",
       "  <tbody>\n",
       "    <tr>\n",
       "      <th>2015-05-05</th>\n",
       "      <td>0.084062</td>\n",
       "      <td>31.450001</td>\n",
       "      <td>32.174999</td>\n",
       "      <td>-0.022533</td>\n",
       "      <td>True</td>\n",
       "    </tr>\n",
       "    <tr>\n",
       "      <th>2015-05-06</th>\n",
       "      <td>0.063895</td>\n",
       "      <td>31.252501</td>\n",
       "      <td>31.450001</td>\n",
       "      <td>-0.006280</td>\n",
       "      <td>False</td>\n",
       "    </tr>\n",
       "    <tr>\n",
       "      <th>2015-05-07</th>\n",
       "      <td>0.067004</td>\n",
       "      <td>31.315001</td>\n",
       "      <td>31.252501</td>\n",
       "      <td>0.002000</td>\n",
       "      <td>False</td>\n",
       "    </tr>\n",
       "    <tr>\n",
       "      <th>2015-05-08</th>\n",
       "      <td>0.078972</td>\n",
       "      <td>31.905001</td>\n",
       "      <td>31.315001</td>\n",
       "      <td>0.018841</td>\n",
       "      <td>True</td>\n",
       "    </tr>\n",
       "    <tr>\n",
       "      <th>2015-05-11</th>\n",
       "      <td>0.102869</td>\n",
       "      <td>31.580000</td>\n",
       "      <td>31.905001</td>\n",
       "      <td>-0.010187</td>\n",
       "      <td>True</td>\n",
       "    </tr>\n",
       "  </tbody>\n",
       "</table>\n",
       "</div>"
      ],
      "text/plain": [
       "            yesterday_sentiment      Close  yesterday_close  \\\n",
       "Date                                                          \n",
       "2015-05-05             0.084062  31.450001        32.174999   \n",
       "2015-05-06             0.063895  31.252501        31.450001   \n",
       "2015-05-07             0.067004  31.315001        31.252501   \n",
       "2015-05-08             0.078972  31.905001        31.315001   \n",
       "2015-05-11             0.102869  31.580000        31.905001   \n",
       "\n",
       "            percent_change_in_price  change_close_big_deal  \n",
       "Date                                                        \n",
       "2015-05-05                -0.022533                   True  \n",
       "2015-05-06                -0.006280                  False  \n",
       "2015-05-07                 0.002000                  False  \n",
       "2015-05-08                 0.018841                   True  \n",
       "2015-05-11                -0.010187                   True  "
      ]
     },
     "execution_count": 43,
     "metadata": {},
     "output_type": "execute_result"
    }
   ],
   "source": [
    "# Our new classification response  \n",
    "classification_df['change_close_big_deal'] = abs(classification_df['percent_change_in_price'] ) > .01 \n",
    "classification_df.head() "
   ]
  },
  {
   "cell_type": "markdown",
   "id": "d816e7e6-eac2-47e0-8b54-69a8e7a69b23",
   "metadata": {},
   "source": [
    "* Let's now perform the same cross-validation as we did with our regression, but this time, we will be using the accuracy feature of our cross-validation module and, instead of a regression module, we will be using two classification machine learning algorithms:"
   ]
  },
  {
   "cell_type": "code",
   "execution_count": 46,
   "id": "be5b26dc-85b4-4ebf-a2f3-dd22595315e8",
   "metadata": {},
   "outputs": [
    {
     "data": {
      "text/plain": [
       "0.2333333333333333"
      ]
     },
     "execution_count": 46,
     "metadata": {},
     "output_type": "execute_result"
    }
   ],
   "source": [
    "# Our accuracy as a result of cross validation random forest \n",
    " \n",
    "rf = RandomForestClassifier() \n",
    "accuracy_cv = cross_val_score(rf, classification_df[['yesterday_sentiment']], classification_df['change_close_big_deal'], cv=3, scoring='accuracy').mean() \n",
    " \n",
    "accuracy_cv \n",
    "# not so good"
   ]
  },
  {
   "cell_type": "code",
   "execution_count": 47,
   "id": "5c626829-2b63-483d-a5f3-3008004ab281",
   "metadata": {},
   "outputs": [
    {
     "data": {
      "text/plain": [
       "0.5666666666666667"
      ]
     },
     "execution_count": 47,
     "metadata": {},
     "output_type": "execute_result"
    }
   ],
   "source": [
    "# Our accuracy as a result of cross validation logistic regression \n",
    " \n",
    "logreg = LogisticRegression() \n",
    "accuracy_cv = cross_val_score(logreg, classification_df[['yesterday_sentiment']], classification_df['change_close_big_deal'], cv=3, scoring='accuracy').mean() \n",
    " \n",
    "accuracy_cv\n",
    "# an improvement, but let's check against the null model"
   ]
  },
  {
   "cell_type": "code",
   "execution_count": 71,
   "id": "9d324925-8cd5-47d2-aaed-d6427d95235c",
   "metadata": {},
   "outputs": [
    {
     "data": {
      "text/plain": [
       "yesterday_sentiment        6\n",
       "Close                      6\n",
       "yesterday_close            6\n",
       "percent_change_in_price    6\n",
       "change_close_big_deal      6\n",
       "dtype: int64"
      ]
     },
     "execution_count": 71,
     "metadata": {},
     "output_type": "execute_result"
    }
   ],
   "source": [
    "# double-checking how the null is determined\n",
    "classification_df.loc[(classification_df['change_close_big_deal']==True)].count()"
   ]
  },
  {
   "cell_type": "code",
   "execution_count": 48,
   "id": "3c8cce79-ef93-4b8b-a3d6-64aeac30b720",
   "metadata": {},
   "outputs": [
    {
     "data": {
      "text/plain": [
       "0.5714285714285714"
      ]
     },
     "execution_count": 48,
     "metadata": {},
     "output_type": "execute_result"
    }
   ],
   "source": [
    "# null model for classification \n",
    "null_accuracy = 1 - classification_df['change_close_big_deal'].mean() \n",
    " \n",
    "null_accuracy \n",
    "# it appears that our model is 1% less valid than a random guess"
   ]
  },
  {
   "cell_type": "markdown",
   "id": "3bb2436b-789a-4a60-8260-d4867403b671",
   "metadata": {},
   "source": [
    "#### Consider using ARIMA as it is much more robust"
   ]
  }
 ],
 "metadata": {
  "kernelspec": {
   "display_name": "Python 3 (ipykernel)",
   "language": "python",
   "name": "python3"
  },
  "language_info": {
   "codemirror_mode": {
    "name": "ipython",
    "version": 3
   },
   "file_extension": ".py",
   "mimetype": "text/x-python",
   "name": "python",
   "nbconvert_exporter": "python",
   "pygments_lexer": "ipython3",
   "version": "3.11.4"
  }
 },
 "nbformat": 4,
 "nbformat_minor": 5
}
